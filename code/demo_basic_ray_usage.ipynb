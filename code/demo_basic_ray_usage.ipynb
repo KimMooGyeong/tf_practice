{
 "cells": [
  {
   "cell_type": "markdown",
   "metadata": {},
   "source": [
    "# Basic Ray Usage"
   ]
  },
  {
   "cell_type": "code",
   "execution_count": 1,
   "metadata": {},
   "outputs": [
    {
     "name": "stdout",
     "output_type": "stream",
     "text": [
      "Ready.\n"
     ]
    }
   ],
   "source": [
    "import os,ray,time\n",
    "import numpy as np\n",
    "print (\"Ready.\")"
   ]
  },
  {
   "cell_type": "markdown",
   "metadata": {},
   "source": [
    "### Central worker and distributed workers"
   ]
  },
  {
   "cell_type": "code",
   "execution_count": 2,
   "metadata": {},
   "outputs": [
    {
     "name": "stdout",
     "output_type": "stream",
     "text": [
      "Ready\n"
     ]
    }
   ],
   "source": [
    "class CentralWorkerClass(object):\n",
    "    \"\"\"\n",
    "    Central Worker\n",
    "    \"\"\"\n",
    "    def __init__(self):\n",
    "        self.data = []\n",
    "    def get_data(self):\n",
    "        return self.data\n",
    "    def get_max_datum(self):\n",
    "        if len(self.data) == 0:\n",
    "            max_datum = 0\n",
    "        else:\n",
    "            max_datum = np.max(np.asarray(self.data))\n",
    "        return max_datum\n",
    "    def set_data(self,datum):\n",
    "        self.data.append(datum)\n",
    "        \n",
    "@ray.remote\n",
    "class DistributedWorkerClass(object):\n",
    "    \"\"\"\n",
    "    Distributed Worker\n",
    "    \"\"\"\n",
    "    def __init__(self,worker_id=0):\n",
    "        self.id = worker_id \n",
    "        self.datum = 0\n",
    "        self.tick = 0\n",
    "        print (\"[%d] worker ready.\"%(self.id))\n",
    "    def rollout(self,val):\n",
    "        time.sleep(1.0) # wait for 1 second\n",
    "        self.datum = val+np.random.randn()\n",
    "    def read_datum(self):\n",
    "        return self.datum\n",
    "    def set_tick(self,tick):\n",
    "        self.tick = tick\n",
    "    def get_tick(self):\n",
    "        return self.tick \n",
    "print (\"Ready\")"
   ]
  },
  {
   "cell_type": "markdown",
   "metadata": {},
   "source": [
    "### Initialize workers"
   ]
  },
  {
   "cell_type": "code",
   "execution_count": 3,
   "metadata": {},
   "outputs": [
    {
     "name": "stderr",
     "output_type": "stream",
     "text": [
      "2020-08-19 10:39:16,966\tINFO resource_spec.py:231 -- Starting Ray with 37.06 GiB memory available for workers and up to 18.54 GiB for objects. You can adjust these settings with ray.init(memory=<bytes>, object_store_memory=<bytes>).\n",
      "2020-08-19 10:39:17,430\tINFO services.py:1193 -- View the Ray dashboard at \u001b[1m\u001b[32mlocalhost:8265\u001b[39m\u001b[22m\n"
     ]
    },
    {
     "name": "stdout",
     "output_type": "stream",
     "text": [
      " worker ticks:[0, 0, 0, 0]\n"
     ]
    }
   ],
   "source": [
    "C = CentralWorkerClass() # init central worker\n",
    "n_worker = 4\n",
    "ray.init(num_cpus=n_worker); # init Ray\n",
    "# Initialize distributed workers\n",
    "workers = [DistributedWorkerClass.remote(worker_id=wid) for wid in range(n_worker)]\n",
    "# Tick\n",
    "get_tick_ops = [worker.get_tick.remote() for worker in workers] # non-block\n",
    "get_tick_vals = ray.get(get_tick_ops)\n",
    "print (\" worker ticks:%s\"%(get_tick_vals))"
   ]
  },
  {
   "cell_type": "markdown",
   "metadata": {},
   "source": [
    "### Run"
   ]
  },
  {
   "cell_type": "code",
   "execution_count": 4,
   "metadata": {
    "scrolled": false
   },
   "outputs": [
    {
     "name": "stdout",
     "output_type": "stream",
     "text": [
      "\u001b[2m\u001b[36m(pid=29384)\u001b[0m [1] worker ready.\n",
      "\u001b[2m\u001b[36m(pid=29385)\u001b[0m [2] worker ready.\n",
      "\u001b[2m\u001b[36m(pid=29383)\u001b[0m [3] worker ready.\n",
      "\u001b[2m\u001b[36m(pid=29386)\u001b[0m [0] worker ready.\n",
      "tick:[0/5]\n",
      " worker ticks:[0, 0, 0, 0]\n",
      " Rollouts took [0.001]sec.\n",
      " Reading  took [1.004]sec.\n",
      " n_data:[4] max_data:[0.261]\n",
      "tick:[1/5]\n",
      " worker ticks:[1, 1, 1, 1]\n",
      " Rollouts took [0.004]sec.\n",
      " Reading  took [1.005]sec.\n",
      " n_data:[8] max_data:[1.217]\n",
      "tick:[2/5]\n",
      " worker ticks:[2, 2, 2, 2]\n",
      " Rollouts took [0.004]sec.\n",
      " Reading  took [1.005]sec.\n",
      " n_data:[12] max_data:[1.935]\n",
      "tick:[3/5]\n",
      " worker ticks:[3, 3, 3, 3]\n",
      " Rollouts took [0.004]sec.\n",
      " Reading  took [1.005]sec.\n",
      " n_data:[16] max_data:[2.328]\n",
      "tick:[4/5]\n",
      " worker ticks:[4, 4, 4, 4]\n",
      " Rollouts took [0.004]sec.\n",
      " Reading  took [1.005]sec.\n",
      " n_data:[20] max_data:[2.412]\n"
     ]
    }
   ],
   "source": [
    "max_tick = 5\n",
    "for tick in range(max_tick):\n",
    "    print (\"tick:[%d/%d]\"%(tick,max_tick))\n",
    "    \n",
    "    # Set tick to rollout workers\n",
    "    set_tick_ops = [worker.set_tick.remote(tick) for worker in workers] # non-block\n",
    "    get_tick_ops = [worker.get_tick.remote() for worker in workers] # non-block\n",
    "    get_tick_vals = ray.get(get_tick_ops)\n",
    "    print (\" worker ticks:%s\"%(get_tick_vals))\n",
    "    \n",
    "    # Rollout (non-block operation)\n",
    "    start = time.time()\n",
    "    rollout_list = [worker.rollout.remote(C.get_max_datum()) for worker in workers] \n",
    "    print (\" Rollouts took [%.3f]sec.\"%(time.time()-start))\n",
    "\n",
    "    # Read rollout data (block operation)\n",
    "    start = time.time()\n",
    "    read_ops = [worker.read_datum.remote() for worker in workers] # block\n",
    "    rollout_vals = ray.get(read_ops) # array\n",
    "    print (\" Reading  took [%.3f]sec.\"%(time.time()-start))\n",
    "\n",
    "    # Append rollout data to the central worker\n",
    "    for rollout_val in rollout_vals:\n",
    "        C.set_data(datum=rollout_val)\n",
    "      \n",
    "    # Print\n",
    "    data = C.get_data()\n",
    "    n_data = len(data)\n",
    "    print (\" n_data:[%d] max_data:[%.3f]\"%(n_data,C.get_max_datum()))"
   ]
  },
  {
   "cell_type": "markdown",
   "metadata": {},
   "source": [
    "### Shutdow Ray"
   ]
  },
  {
   "cell_type": "code",
   "execution_count": 5,
   "metadata": {},
   "outputs": [
    {
     "name": "stdout",
     "output_type": "stream",
     "text": [
      "Ray shutdown.\n"
     ]
    }
   ],
   "source": [
    "ray.shutdown()\n",
    "print (\"Ray shutdown.\")"
   ]
  },
  {
   "cell_type": "code",
   "execution_count": null,
   "metadata": {},
   "outputs": [],
   "source": []
  }
 ],
 "metadata": {
  "kernelspec": {
   "display_name": "Python 3",
   "language": "python",
   "name": "python3"
  },
  "language_info": {
   "codemirror_mode": {
    "name": "ipython",
    "version": 3
   },
   "file_extension": ".py",
   "mimetype": "text/x-python",
   "name": "python",
   "nbconvert_exporter": "python",
   "pygments_lexer": "ipython3",
   "version": "3.6.10"
  }
 },
 "nbformat": 4,
 "nbformat_minor": 4
}
