{
 "cells": [
  {
   "cell_type": "markdown",
   "metadata": {},
   "source": [
    "# 1-D Linear Regression "
   ]
  },
  {
   "cell_type": "code",
   "execution_count": null,
   "metadata": {},
   "outputs": [],
   "source": [
    "import numpy as np\n",
    "import tensorflow as tf\n",
    "import matplotlib.pyplot as plt\n",
    "%matplotlib inline  \n",
    "%config InlineBackend.figure_format='retina'\n",
    "print (\"TF version:[%s].\"%(tf.__version__))"
   ]
  },
  {
   "cell_type": "markdown",
   "metadata": {},
   "source": [
    "### Dataset"
   ]
  },
  {
   "cell_type": "code",
   "execution_count": null,
   "metadata": {},
   "outputs": [],
   "source": [
    "W_ref,b_ref = 2+2*np.random.rand(),np.random.rand()\n",
    "n = 1000 # number of data\n",
    "x = np.random.rand(n,1)\n",
    "y_ref = W_ref*x+b_ref\n",
    "y = y_ref+0.5*np.random.randn(n,1)\n",
    "print (\"We have [%d] data.\"%(n))"
   ]
  },
  {
   "cell_type": "markdown",
   "metadata": {},
   "source": [
    "### Plot training data"
   ]
  },
  {
   "cell_type": "code",
   "execution_count": null,
   "metadata": {},
   "outputs": [],
   "source": [
    "plt.figure(figsize=(8,4))\n",
    "plt.plot(x,y,'k.',label='Noisy Data')\n",
    "plt.plot(x,y_ref,'r.',label='Ref. Data')\n",
    "plt.xlabel('x',fontsize=15); plt.ylabel('y',fontsize=15)\n",
    "plt.legend(fontsize=15)\n",
    "plt.show()"
   ]
  },
  {
   "cell_type": "markdown",
   "metadata": {},
   "source": [
    "### Make a computational graph"
   ]
  },
  {
   "cell_type": "code",
   "execution_count": null,
   "metadata": {
    "scrolled": true
   },
   "outputs": [],
   "source": [
    "tf.reset_default_graph() # reset graph \n",
    "# Placeholders\n",
    "ph_x = tf.placeholder(dtype=tf.float32,shape=(None,1),name='x')\n",
    "ph_y = tf.placeholder(dtype=tf.float32,shape=(None,1),name='y')\n",
    "# Forward graph\n",
    "W = tf.Variable(np.sqrt(0.1)*np.random.randn(),dtype=tf.float32,name='W')\n",
    "b = tf.Variable(0,dtype=tf.float32,name='b')\n",
    "y_hat = W*ph_x + b\n",
    "# Loss function\n",
    "cost = tf.reduce_mean((y_hat-ph_y)**2) # MSE\n",
    "optm = tf.train.GradientDescentOptimizer(learning_rate=0.01).minimize(cost)\n",
    "# Initializer\n",
    "init = tf.global_variables_initializer()"
   ]
  },
  {
   "cell_type": "markdown",
   "metadata": {},
   "source": [
    "### Run"
   ]
  },
  {
   "cell_type": "code",
   "execution_count": null,
   "metadata": {},
   "outputs": [],
   "source": [
    "def gpu_sess():\n",
    "    config = tf.ConfigProto()\n",
    "    config.gpu_options.allow_growth = True\n",
    "    sess = tf.Session(config=config)\n",
    "    return sess\n",
    "sess = gpu_sess() # open session"
   ]
  },
  {
   "cell_type": "code",
   "execution_count": null,
   "metadata": {
    "scrolled": true
   },
   "outputs": [],
   "source": [
    "sess.run(init) # Initialize variables\n",
    "# Loop\n",
    "max_iter,batch_size,print_every,plot_every = 5000,128,100,1000\n",
    "for it in range(max_iter):\n",
    "    # Optimize\n",
    "    b_idx = np.random.permutation(n)[:batch_size]\n",
    "    x_batch,y_batch = x[b_idx,:],y[b_idx,:]\n",
    "    feeds = {ph_x:x_batch,ph_y:y_batch}\n",
    "    cost_val,_ = sess.run([cost,optm],feed_dict=feeds)\n",
    "    if ((it%print_every)==0) or (it==(max_iter-1)):\n",
    "        [W_val,b_val] = sess.run([W,b])\n",
    "        print (\"it:[%d] cost_val:[%.3f] W:[%.2f] b:[%.2f] W:[%.2f] b:[%.2f]\"%\n",
    "               (it,cost_val,W_val,b_val,W_ref,b_ref))\n",
    "    if ((it%plot_every)==0) or (it==(max_iter-1)):\n",
    "        [W_val,b_val] = sess.run([W,b])\n",
    "        y_val = W_val*x + b_val\n",
    "        plt.figure(figsize=(8,4))\n",
    "        plt.plot(x,y,'k.',label='Noisy Data');plt.plot(x,y_ref,'r.',label='Ref. Data')\n",
    "        plt.plot(x,y_val,'b.',label='Fitted Data');plt.title(\"Iter:[%d]\"%(it),fontsize=15)\n",
    "        plt.xlabel('x',fontsize=15); plt.ylabel('y',fontsize=15);plt.legend(fontsize=15)\n",
    "        plt.show()\n",
    "print (\"Done.\")"
   ]
  },
  {
   "cell_type": "code",
   "execution_count": null,
   "metadata": {},
   "outputs": [],
   "source": []
  },
  {
   "cell_type": "markdown",
   "metadata": {},
   "source": [
    "### Now, use Class for more concise representation"
   ]
  },
  {
   "cell_type": "code",
   "execution_count": null,
   "metadata": {},
   "outputs": [],
   "source": [
    "class LinearRegressionClass(object):\n",
    "    def __init__(self,name='linear_regression',x_dim=1,y_dim=1):\n",
    "        \"\"\"\n",
    "        Initialize Class\n",
    "        \"\"\"\n",
    "        self.name = name\n",
    "        self.x_dim = x_dim\n",
    "        self.y_dim = y_dim\n",
    "        # Build model and graph\n",
    "        self.build_model()\n",
    "        self.build_graph()\n",
    "        print (\"[%s] instantiated.\"%(self.name))\n",
    "        \n",
    "    def build_model(self):\n",
    "        \"\"\"\n",
    "        Build forward model\n",
    "        \"\"\"\n",
    "        # Placeholders\n",
    "        self.ph_x = tf.placeholder(dtype=tf.float32,shape=(None,self.x_dim),name='x')\n",
    "        self.ph_y = tf.placeholder(dtype=tf.float32,shape=(None,self.y_dim),name='y')\n",
    "        # Forward graph\n",
    "        self.W = tf.Variable(np.sqrt(0.1)*np.random.randn(),dtype=tf.float32,name='W')\n",
    "        self.b = tf.Variable(0,dtype=tf.float32,name='b')\n",
    "        self.y_hat = self.W*self.ph_x + self.b\n",
    "        \n",
    "    def build_graph(self):\n",
    "        \"\"\"\n",
    "        Build computational graph\n",
    "        \"\"\"\n",
    "        self.cost = tf.reduce_mean((self.y_hat-self.ph_y)**2) # MSE\n",
    "        self.optm = tf.train.GradientDescentOptimizer(learning_rate=0.01).minimize(self.cost)\n",
    "        \n",
    "    def update(self,sess,x_batch,y_batch):\n",
    "        \"\"\"\n",
    "        Update with mini-batch\n",
    "        \"\"\"\n",
    "        feeds = {self.ph_x:x_batch,self.ph_y:y_batch}\n",
    "        cost_val,_ = sess.run([self.cost,self.optm],feed_dict=feeds)\n",
    "        return cost_val\n",
    "        \n",
    "    def get(self,sess):\n",
    "        \"\"\"\n",
    "        Get optimization variables \n",
    "        \"\"\"\n",
    "        [W_val,b_val] = sess.run([self.W,self.b])\n",
    "        return [W_val,b_val]\n",
    "\n",
    "def plot_progress(x,y,y_ref,y_val,it):\n",
    "    plt.figure(figsize=(8,4))\n",
    "    plt.plot(x,y,'k.',label='Noisy Data');plt.plot(x,y_ref,'r.',label='Ref. Data')\n",
    "    plt.plot(x,y_val,'b.',label='Fitted Data');plt.title(\"Iter:[%d]\"%(it),fontsize=15)\n",
    "    plt.xlabel('x',fontsize=15); plt.ylabel('y',fontsize=15);plt.legend(fontsize=15)\n",
    "    plt.show()\n",
    "\n",
    "print (\"Ready.\")"
   ]
  },
  {
   "cell_type": "markdown",
   "metadata": {},
   "source": [
    "### Instantiate Class"
   ]
  },
  {
   "cell_type": "code",
   "execution_count": null,
   "metadata": {},
   "outputs": [],
   "source": [
    "tf.reset_default_graph()\n",
    "sess = tf.Session() # open session\n",
    "L = LinearRegressionClass()"
   ]
  },
  {
   "cell_type": "code",
   "execution_count": null,
   "metadata": {
    "scrolled": true
   },
   "outputs": [],
   "source": [
    "sess.run(tf.global_variables_initializer()) # Initialize variables\n",
    "# Loop\n",
    "max_iter,batch_size,print_every,plot_every = 5000,128,100,1000\n",
    "for it in range(max_iter):\n",
    "    # Optimize\n",
    "    b_idx = np.random.permutation(n)[:batch_size]\n",
    "    x_batch,y_batch = x[b_idx,:],y[b_idx,:]\n",
    "    cost_val = L.update(sess=sess,x_batch=x_batch,y_batch=y_batch)\n",
    "    if ((it%print_every)==0) or (it==(max_iter-1)):\n",
    "        [W_val,b_val] = L.get(sess)\n",
    "        print (\"it:[%d] cost_val:[%.3f] W:[%.2f] b:[%.2f] W:[%.2f] b:[%.2f]\"%\n",
    "               (it,cost_val,W_val,b_val,W_ref,b_ref))\n",
    "    if ((it%plot_every)==0) or (it==(max_iter-1)):\n",
    "        [W_val,b_val] = L.get(sess)\n",
    "        y_val = W_val*x + b_val\n",
    "        plot_progress(x,y,y_ref,y_val,it)\n",
    "print (\"Done.\")"
   ]
  },
  {
   "cell_type": "code",
   "execution_count": null,
   "metadata": {},
   "outputs": [],
   "source": []
  }
 ],
 "metadata": {
  "kernelspec": {
   "display_name": "Python 3",
   "language": "python",
   "name": "python3"
  },
  "language_info": {
   "codemirror_mode": {
    "name": "ipython",
    "version": 3
   },
   "file_extension": ".py",
   "mimetype": "text/x-python",
   "name": "python",
   "nbconvert_exporter": "python",
   "pygments_lexer": "ipython3",
   "version": "3.6.9"
  }
 },
 "nbformat": 4,
 "nbformat_minor": 2
}
