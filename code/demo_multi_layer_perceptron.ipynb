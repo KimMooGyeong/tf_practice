{
 "cells": [
  {
   "cell_type": "markdown",
   "metadata": {},
   "source": [
    "### Multi Layer Perceptron"
   ]
  },
  {
   "cell_type": "code",
   "execution_count": 1,
   "metadata": {},
   "outputs": [
    {
     "name": "stdout",
     "output_type": "stream",
     "text": [
      "TF version:[1.12.0].\n"
     ]
    }
   ],
   "source": [
    "import numpy as np\n",
    "import tensorflow as tf\n",
    "import matplotlib.pyplot as plt\n",
    "%matplotlib inline  \n",
    "%config InlineBackend.figure_format='retina'\n",
    "print (\"TF version:[%s].\"%(tf.__version__))"
   ]
  },
  {
   "cell_type": "code",
   "execution_count": null,
   "metadata": {},
   "outputs": [],
   "source": []
  },
  {
   "cell_type": "markdown",
   "metadata": {},
   "source": [
    "### Helper functions"
   ]
  },
  {
   "cell_type": "code",
   "execution_count": 2,
   "metadata": {},
   "outputs": [
    {
     "name": "stdout",
     "output_type": "stream",
     "text": [
      "Ready.\n"
     ]
    }
   ],
   "source": [
    "def mlp(x,h_dims=[256,256],actv=tf.nn.relu,out_actv=tf.nn.relu):\n",
    "    \"\"\"\n",
    "    Multi-layer perceptron \n",
    "    \"\"\"\n",
    "    ki = tf.truncated_normal_initializer(stddev=0.1)\n",
    "    for h_dim in h_dims[:-1]:\n",
    "        x = tf.layers.dense(x,units=h_dim,activation=actv,kernel_initializer=ki)\n",
    "    return tf.layers.dense(x,units=h_dims[-1],activation=out_actv,kernel_initializer=ki)\n",
    "\n",
    "def placeholder(dim=None):\n",
    "    \"\"\"\n",
    "    Placeholder\n",
    "    \"\"\"\n",
    "    return tf.placeholder(dtype=tf.float32,shape=(None,dim) if dim else (None,))\n",
    "\n",
    "def placeholders(*args):\n",
    "    \"\"\"\n",
    "    Usage: a_ph,b_ph,c_ph = placeholders(adim,bdim,None)\n",
    "    \"\"\"\n",
    "    return [placeholder(dim) for dim in args]\n",
    "\n",
    "def get_vars(scope):\n",
    "    \"\"\"\n",
    "    Get TF variables within scope\n",
    "    \"\"\"\n",
    "    if tf.__version__ == '1.12.0':\n",
    "        tf_vars = [x for x in tf.global_variables() if scope in x.name]\n",
    "    else:\n",
    "        tf_vars = [x for x in tf.compat.v1.global_variables() if scope in x.name]\n",
    "    return tf_vars\n",
    "print (\"Ready.\")"
   ]
  },
  {
   "cell_type": "code",
   "execution_count": null,
   "metadata": {},
   "outputs": [],
   "source": []
  },
  {
   "cell_type": "markdown",
   "metadata": {},
   "source": [
    "### Dataset"
   ]
  },
  {
   "cell_type": "code",
   "execution_count": 3,
   "metadata": {},
   "outputs": [
    {
     "name": "stdout",
     "output_type": "stream",
     "text": [
      "n_train:[60000], n_test:[10000], x_dim:[784]\n"
     ]
    }
   ],
   "source": [
    "mnist = tf.keras.datasets.mnist \n",
    "(x_train,y_train),(x_test,y_test) = mnist.load_data() # 0~255\n",
    "y_train,y_test = np.eye(10)[y_train],np.eye(10)[y_test]\n",
    "x_train,x_test = x_train.reshape((-1,784)),x_test.reshape((-1,784)) # reshape [N x 784]\n",
    "x_train,x_test = x_train/255.0,x_test/255.0 # pixel values between 0 and 1\n",
    "n_train,n_test,x_dim = x_train.shape[0],x_test.shape[0],x_train.shape[1]\n",
    "print (\"n_train:[%d], n_test:[%d], x_dim:[%d]\"%\n",
    "       (n_train,n_test,x_dim))"
   ]
  },
  {
   "cell_type": "code",
   "execution_count": null,
   "metadata": {},
   "outputs": [],
   "source": []
  },
  {
   "cell_type": "markdown",
   "metadata": {},
   "source": [
    "### Model"
   ]
  },
  {
   "cell_type": "code",
   "execution_count": 11,
   "metadata": {},
   "outputs": [
    {
     "name": "stdout",
     "output_type": "stream",
     "text": [
      "Ready.\n"
     ]
    }
   ],
   "source": [
    "class MultiLayerPerceptronClsClass(object):\n",
    "    \"\"\"\n",
    "    MLP for classification\n",
    "    \"\"\"\n",
    "    def __init__(self,name='mlp',x_dim=784,y_dim=10,h_dims=[128,128],actv=tf.nn.relu):\n",
    "        \"\"\"\n",
    "        Initialize\n",
    "        \"\"\"\n",
    "        self.name = name\n",
    "        self.x_dim = x_dim\n",
    "        self.y_dim = y_dim\n",
    "        self.h_dims = h_dims\n",
    "        self.actv = actv\n",
    "        self.build_model()\n",
    "        self.build_graph()\n",
    "        print(\"[%s] instantiated.\"%(self.name))\n",
    "        \n",
    "    def build_model(self):\n",
    "        \"\"\"\n",
    "        Build model\n",
    "        \"\"\"\n",
    "        self.ph_x,self.ph_y = placeholders(self.x_dim,self.y_dim)\n",
    "        with tf.variable_scope('main'):\n",
    "            self.y_hat = mlp(self.ph_x,h_dims=self.h_dims+[self.y_dim],\n",
    "                             actv=self.actv,out_actv=None)\n",
    "        self.main_vars = get_vars('main')\n",
    "        \n",
    "    def build_graph(self):\n",
    "        \"\"\"\n",
    "        Build graph\n",
    "        \"\"\"\n",
    "        self.costs = tf.nn.softmax_cross_entropy_with_logits_v2(labels=self.ph_y,logits=self.y_hat)\n",
    "        self.cost = tf.reduce_mean(self.costs) \n",
    "        self.optm = tf.train.AdamOptimizer(learning_rate=0.001).minimize(self.cost)\n",
    "        self.corr = tf.equal(tf.argmax(self.y_hat,1),tf.argmax(self.ph_y,1)) # [N]\n",
    "        self.accr = tf.reduce_mean(tf.cast(self.corr, \"float\")) # [1]\n",
    "        \n",
    "    def update(self,sess,x_batch,y_batch):\n",
    "        \"\"\"\n",
    "        Update model \n",
    "        \"\"\"\n",
    "        feeds = {self.ph_x:x_batch,self.ph_y:y_batch}\n",
    "        cost_val,_ = sess.run([self.cost,self.optm],feed_dict=feeds)\n",
    "        return cost_val\n",
    "    \n",
    "    def test(self,sess,x_test,y_test):\n",
    "        \"\"\"\n",
    "        Test the model\n",
    "        \"\"\"\n",
    "        feeds = {self.ph_x:x_test,self.ph_y:y_test}\n",
    "        accr_val = sess.run(self.accr,feed_dict=feeds)\n",
    "        return accr_val\n",
    "    \n",
    "print (\"Ready.\")"
   ]
  },
  {
   "cell_type": "markdown",
   "metadata": {},
   "source": [
    "### Instantiate Model"
   ]
  },
  {
   "cell_type": "code",
   "execution_count": 12,
   "metadata": {},
   "outputs": [
    {
     "name": "stdout",
     "output_type": "stream",
     "text": [
      "[mlp] instantiated.\n"
     ]
    }
   ],
   "source": [
    "tf.reset_default_graph()\n",
    "sess = tf.Session() \n",
    "M = MultiLayerPerceptronClsClass()"
   ]
  },
  {
   "cell_type": "code",
   "execution_count": 13,
   "metadata": {},
   "outputs": [
    {
     "name": "stdout",
     "output_type": "stream",
     "text": [
      "0 <tf.Variable 'main/dense/kernel:0' shape=(784, 128) dtype=float32_ref>\n",
      "1 <tf.Variable 'main/dense/bias:0' shape=(128,) dtype=float32_ref>\n",
      "2 <tf.Variable 'main/dense_1/kernel:0' shape=(128, 128) dtype=float32_ref>\n",
      "3 <tf.Variable 'main/dense_1/bias:0' shape=(128,) dtype=float32_ref>\n",
      "4 <tf.Variable 'main/dense_2/kernel:0' shape=(128, 10) dtype=float32_ref>\n",
      "5 <tf.Variable 'main/dense_2/bias:0' shape=(10,) dtype=float32_ref>\n"
     ]
    }
   ],
   "source": [
    "for v_idx,var in enumerate(M.main_vars):\n",
    "    print (v_idx,var)"
   ]
  },
  {
   "cell_type": "code",
   "execution_count": null,
   "metadata": {},
   "outputs": [],
   "source": []
  },
  {
   "cell_type": "markdown",
   "metadata": {},
   "source": [
    "### Loop"
   ]
  },
  {
   "cell_type": "code",
   "execution_count": 20,
   "metadata": {
    "scrolled": true
   },
   "outputs": [
    {
     "name": "stdout",
     "output_type": "stream",
     "text": [
      "epoch:[0/10] cost:[0.342] test_accuracy:[0.954]\n",
      "epoch:[1/10] cost:[0.125] test_accuracy:[0.967]\n",
      "epoch:[2/10] cost:[0.085] test_accuracy:[0.973]\n",
      "epoch:[3/10] cost:[0.064] test_accuracy:[0.973]\n",
      "epoch:[4/10] cost:[0.051] test_accuracy:[0.972]\n",
      "epoch:[5/10] cost:[0.040] test_accuracy:[0.975]\n",
      "epoch:[6/10] cost:[0.032] test_accuracy:[0.976]\n",
      "epoch:[7/10] cost:[0.027] test_accuracy:[0.975]\n",
      "epoch:[8/10] cost:[0.021] test_accuracy:[0.977]\n",
      "epoch:[9/10] cost:[0.017] test_accuracy:[0.976]\n",
      "Done.\n"
     ]
    }
   ],
   "source": [
    "sess.run(tf.global_variables_initializer()) # Initialize variables\n",
    "max_epoch,batch_size,print_every = 10,128,1\n",
    "max_iter = np.ceil(n_train/batch_size).astype(np.int) # number of iterations\n",
    "for epoch in range(max_epoch):\n",
    "    p_idx = np.random.permutation(n_train)\n",
    "    cost_val_sum,cnt = 0,0\n",
    "    for it in range(max_iter):\n",
    "        b_idx = p_idx[batch_size*(it):batch_size*(it+1)]\n",
    "        x_batch,y_batch = x_train[b_idx,:],y_train[b_idx,:]\n",
    "        cost_val = M.update(sess=sess,x_batch=x_batch,y_batch=y_batch)\n",
    "        cost_val_sum += cost_val*len(b_idx)\n",
    "        cnt += len(b_idx)\n",
    "    cost_val_avg = cost_val_sum / cnt\n",
    "    if ((epoch%print_every)==0) or (epoch==(max_epoch-1)):\n",
    "        accr_val = M.test(sess,x_test,y_test)\n",
    "        print (\"epoch:[%d/%d] cost:[%.3f] test_accuracy:[%.3f]\"%\n",
    "               (epoch,max_epoch,cost_val_avg,accr_val))\n",
    "print (\"Done.\")"
   ]
  },
  {
   "cell_type": "code",
   "execution_count": null,
   "metadata": {},
   "outputs": [],
   "source": []
  }
 ],
 "metadata": {
  "kernelspec": {
   "display_name": "Python 3",
   "language": "python",
   "name": "python3"
  },
  "language_info": {
   "codemirror_mode": {
    "name": "ipython",
    "version": 3
   },
   "file_extension": ".py",
   "mimetype": "text/x-python",
   "name": "python",
   "nbconvert_exporter": "python",
   "pygments_lexer": "ipython3",
   "version": "3.6.7"
  }
 },
 "nbformat": 4,
 "nbformat_minor": 2
}
