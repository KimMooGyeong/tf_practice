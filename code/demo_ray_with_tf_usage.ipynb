{
 "cells": [
  {
   "cell_type": "markdown",
   "metadata": {},
   "source": [
    "# Use Ray with TensorFlow"
   ]
  },
  {
   "cell_type": "code",
   "execution_count": 1,
   "metadata": {},
   "outputs": [
    {
     "name": "stdout",
     "output_type": "stream",
     "text": [
      "Packaged loaded. TF version is [1.15.0].\n"
     ]
    }
   ],
   "source": [
    "import datetime,gym,os,pybullet_envs,time,ray\n",
    "import numpy as np\n",
    "np.set_printoptions(precision=2)\n",
    "import tensorflow as tf\n",
    "from util import suppress_tf_warning\n",
    "suppress_tf_warning()\n",
    "print (\"Packaged loaded. TF version is [%s].\"%(tf.__version__))"
   ]
  },
  {
   "cell_type": "markdown",
   "metadata": {},
   "source": [
    "### Initialize Ray"
   ]
  },
  {
   "cell_type": "code",
   "execution_count": 2,
   "metadata": {},
   "outputs": [
    {
     "name": "stderr",
     "output_type": "stream",
     "text": [
      "2020-08-19 11:01:31,346\tINFO resource_spec.py:231 -- Starting Ray with 37.01 GiB memory available for workers and up to 18.52 GiB for objects. You can adjust these settings with ray.init(memory=<bytes>, object_store_memory=<bytes>).\n",
      "2020-08-19 11:01:31,803\tINFO services.py:1193 -- View the Ray dashboard at \u001b[1m\u001b[32mlocalhost:8265\u001b[39m\u001b[22m\n"
     ]
    },
    {
     "name": "stdout",
     "output_type": "stream",
     "text": [
      "RAY initialized with [5] cpus.\n"
     ]
    }
   ],
   "source": [
    "n_cpus = 5\n",
    "ray.init(num_cpus=n_cpus)\n",
    "print (\"RAY initialized with [%d] cpus.\"%(n_cpus))"
   ]
  },
  {
   "cell_type": "markdown",
   "metadata": {},
   "source": [
    "### TF Model Creator. Note that ```import tensorflor as tf``` should be inside the function."
   ]
  },
  {
   "cell_type": "code",
   "execution_count": 3,
   "metadata": {},
   "outputs": [
    {
     "name": "stdout",
     "output_type": "stream",
     "text": [
      "Ready.\n"
     ]
    }
   ],
   "source": [
    "def create_model(x_dim,y_dim):\n",
    "    \"\"\"\n",
    "    Create TF model \n",
    "    \"\"\"\n",
    "    import tensorflow as tf\n",
    "    from util import suppress_tf_warning\n",
    "    suppress_tf_warning()\n",
    "    \n",
    "    # Build a simple two-layer model\n",
    "    ph_x = tf.placeholder(tf.float32,shape=[None,x_dim])\n",
    "    with tf.variable_scope('main'):\n",
    "        net = tf.layers.dense(inputs=ph_x,units=32,activation=tf.nn.relu)\n",
    "        y = tf.layers.dense(inputs=net,units=y_dim,activation=None)\n",
    "    def get_vars(scope):\n",
    "        return [x for x in tf.compat.v1.global_variables() if scope in x.name]\n",
    "    g_vars = get_vars('main')\n",
    "    \n",
    "    # Have own session\n",
    "    config = tf.ConfigProto()\n",
    "    config.gpu_options.allow_growth = True\n",
    "    sess = tf.Session(config=config)\n",
    "    \n",
    "    # Initialize weights\n",
    "    sess.run(tf.global_variables_initializer())\n",
    "    return ph_x,y,g_vars,sess\n",
    "print (\"Ready.\")"
   ]
  },
  {
   "cell_type": "markdown",
   "metadata": {},
   "source": [
    "### Rollout Worker with a TF Model inside"
   ]
  },
  {
   "cell_type": "code",
   "execution_count": 4,
   "metadata": {},
   "outputs": [
    {
     "name": "stdout",
     "output_type": "stream",
     "text": [
      "Ready.\n"
     ]
    }
   ],
   "source": [
    "@ray.remote\n",
    "class RolloutWorkerClass(object):\n",
    "    def __init__(self,worker_id=0,x_dim=5,y_dim=2):\n",
    "        self.worker_id = worker_id\n",
    "        # Make TF Model\n",
    "        self.ph_x,self.y,self.g_vars,self.sess = create_model(x_dim=x_dim,y_dim=y_dim)\n",
    "    def get_weights(self):\n",
    "        \"\"\"\n",
    "        Get weights of 'g_vars'\n",
    "        \"\"\"\n",
    "        return self.sess.run(self.g_vars)\n",
    "    def set_weights(self,weight_list):\n",
    "        \"\"\"\n",
    "        Set weights of 'g_vars'\n",
    "        \"\"\"\n",
    "        for g_idx,g_var in enumerate(self.g_vars):\n",
    "            self.sess.run(tf.assign(g_var,weight_list[g_idx]))\n",
    "    def rollout(self,x):\n",
    "        return self.sess.run(self.y,feed_dict={self.ph_x:x})\n",
    "\n",
    "print(\"Ready.\")"
   ]
  },
  {
   "cell_type": "markdown",
   "metadata": {},
   "source": [
    "### Initialize Workers"
   ]
  },
  {
   "cell_type": "code",
   "execution_count": 5,
   "metadata": {
    "scrolled": true
   },
   "outputs": [
    {
     "name": "stdout",
     "output_type": "stream",
     "text": [
      "[5] workers initialized.\n"
     ]
    }
   ],
   "source": [
    "x_dim,y_dim = 64,4\n",
    "n_workers = 5\n",
    "workers = [RolloutWorkerClass.remote(worker_id=i,x_dim=x_dim,y_dim=y_dim) for i in range(n_workers)]\n",
    "print (\"[%d] workers initialized.\"%(n_workers))"
   ]
  },
  {
   "cell_type": "markdown",
   "metadata": {},
   "source": [
    "### Initialize a Central Worker"
   ]
  },
  {
   "cell_type": "code",
   "execution_count": 6,
   "metadata": {},
   "outputs": [],
   "source": [
    "_,_,g_vars,sess = create_model(x_dim=x_dim,y_dim=y_dim)\n",
    "weights = sess.run(g_vars)"
   ]
  },
  {
   "cell_type": "markdown",
   "metadata": {},
   "source": [
    "### Rollouts and Check the results"
   ]
  },
  {
   "cell_type": "code",
   "execution_count": 7,
   "metadata": {},
   "outputs": [],
   "source": [
    "x_rand = np.random.rand(1,x_dim)"
   ]
  },
  {
   "cell_type": "code",
   "execution_count": 8,
   "metadata": {},
   "outputs": [],
   "source": [
    "rollout_list = [worker.rollout.remote(x=x_rand) for worker in workers] # non-block\n",
    "rollout_res_list = ray.get(rollout_list)"
   ]
  },
  {
   "cell_type": "markdown",
   "metadata": {},
   "source": [
    "## All Rollout results are DIFFERENT as weights are all different!"
   ]
  },
  {
   "cell_type": "code",
   "execution_count": 9,
   "metadata": {},
   "outputs": [
    {
     "name": "stdout",
     "output_type": "stream",
     "text": [
      "Rollout result of [0] worker is:\n",
      " [[-0.82 -0.66 -0.73  0.71]]\n",
      "Rollout result of [1] worker is:\n",
      " [[-0.16  0.12 -0.36 -0.72]]\n",
      "Rollout result of [2] worker is:\n",
      " [[-0.74  0.35 -0.26 -0.12]]\n",
      "Rollout result of [3] worker is:\n",
      " [[ 0.35  0.21 -0.16  0.47]]\n",
      "Rollout result of [4] worker is:\n",
      " [[ 0.26  0.35 -0.63  0.39]]\n"
     ]
    }
   ],
   "source": [
    "for r_idx,rollout_res in enumerate(rollout_res_list):\n",
    "    print (\"Rollout result of [%d] worker is:\\n %s\"%(r_idx,rollout_res))"
   ]
  },
  {
   "cell_type": "markdown",
   "metadata": {},
   "source": [
    "## Assign the same weights to all workers"
   ]
  },
  {
   "cell_type": "code",
   "execution_count": 10,
   "metadata": {},
   "outputs": [],
   "source": [
    "set_weights_list = [worker.set_weights.remote(weights) for worker in workers] # non-block\n",
    "get_weights_list = [worker.get_weights.remote() for worker in workers] # non-block\n",
    "weights_list = ray.get(get_weights_list)"
   ]
  },
  {
   "cell_type": "markdown",
   "metadata": {},
   "source": [
    "### Rollouts and Check the results"
   ]
  },
  {
   "cell_type": "code",
   "execution_count": 11,
   "metadata": {},
   "outputs": [
    {
     "name": "stdout",
     "output_type": "stream",
     "text": [
      "Rollout result of [0] worker is:\n",
      " [[0.32 0.17 0.55 0.39]]\n",
      "Rollout result of [1] worker is:\n",
      " [[0.32 0.17 0.55 0.39]]\n",
      "Rollout result of [2] worker is:\n",
      " [[0.32 0.17 0.55 0.39]]\n",
      "Rollout result of [3] worker is:\n",
      " [[0.32 0.17 0.55 0.39]]\n",
      "Rollout result of [4] worker is:\n",
      " [[0.32 0.17 0.55 0.39]]\n"
     ]
    }
   ],
   "source": [
    "rollout_list = [worker.rollout.remote(x=x_rand) for worker in workers] # non-block\n",
    "rollout_res_list = ray.get(rollout_list)\n",
    "for r_idx,rollout_res in enumerate(rollout_res_list):\n",
    "    print (\"Rollout result of [%d] worker is:\\n %s\"%(r_idx,rollout_res))"
   ]
  },
  {
   "cell_type": "code",
   "execution_count": null,
   "metadata": {},
   "outputs": [],
   "source": []
  },
  {
   "cell_type": "markdown",
   "metadata": {},
   "source": [
    "### Shutdown Ray"
   ]
  },
  {
   "cell_type": "code",
   "execution_count": 12,
   "metadata": {},
   "outputs": [
    {
     "name": "stdout",
     "output_type": "stream",
     "text": [
      "RAY shutdown.\n"
     ]
    }
   ],
   "source": [
    "ray.shutdown()\n",
    "print (\"RAY shutdown.\")"
   ]
  },
  {
   "cell_type": "code",
   "execution_count": null,
   "metadata": {},
   "outputs": [],
   "source": []
  }
 ],
 "metadata": {
  "kernelspec": {
   "display_name": "Python 3",
   "language": "python",
   "name": "python3"
  },
  "language_info": {
   "codemirror_mode": {
    "name": "ipython",
    "version": 3
   },
   "file_extension": ".py",
   "mimetype": "text/x-python",
   "name": "python",
   "nbconvert_exporter": "python",
   "pygments_lexer": "ipython3",
   "version": "3.6.10"
  }
 },
 "nbformat": 4,
 "nbformat_minor": 4
}
